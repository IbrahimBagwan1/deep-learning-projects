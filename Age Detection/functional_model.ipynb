{
 "cells": [
  {
   "cell_type": "code",
   "execution_count": 1,
   "id": "8d8ed3f6",
   "metadata": {},
   "outputs": [],
   "source": [
    "from keras.layers import *\n",
    "from keras.models import Model"
   ]
  },
  {
   "cell_type": "code",
   "execution_count": 2,
   "id": "516389d6",
   "metadata": {},
   "outputs": [],
   "source": [
    "import os\n",
    "import numpy as np\n",
    "import pandas as pd\n",
    "from tensorflow.keras.preprocessing.image import ImageDataGenerator"
   ]
  },
  {
   "cell_type": "code",
   "execution_count": 3,
   "id": "494f4727",
   "metadata": {},
   "outputs": [],
   "source": [
    "folder_path = \"C:/Users/irbag/Downloads/archive (6)/UTKFace\""
   ]
  },
  {
   "cell_type": "code",
   "execution_count": 4,
   "id": "27954642",
   "metadata": {},
   "outputs": [],
   "source": [
    "age = []\n",
    "gender = []\n",
    "img_path = []\n",
    "\n",
    "for file in os.listdir(folder_path):\n",
    "    try:\n",
    "        parts = file.split('_')\n",
    "        \n",
    "        # Append the first part (age) to the age list\n",
    "        age.append(int(parts[0]))\n",
    "        \n",
    "        # Append the second part (gender) to the gender list\n",
    "        gender.append(int(parts[1]))\n",
    "        \n",
    "        # Append the full filename to the img_path list\n",
    "        img_path.append(file)\n",
    "        \n",
    "    except Exception as e:\n",
    "        # This will skip any files that don't match the format (like .DS_Store or README)\n",
    "        print(f\"Skipping file: {file}, Error: {e}\")"
   ]
  },
  {
   "cell_type": "code",
   "execution_count": 5,
   "id": "e0a46bfa",
   "metadata": {},
   "outputs": [
    {
     "data": {
      "text/plain": [
       "23708"
      ]
     },
     "execution_count": 5,
     "metadata": {},
     "output_type": "execute_result"
    }
   ],
   "source": [
    "len(age)"
   ]
  },
  {
   "cell_type": "code",
   "execution_count": 6,
   "id": "ce93b54d",
   "metadata": {},
   "outputs": [],
   "source": [
    "df = pd.DataFrame({'age':age, 'gender':gender, 'img':img_path})"
   ]
  },
  {
   "cell_type": "code",
   "execution_count": 7,
   "id": "08c64f61",
   "metadata": {},
   "outputs": [
    {
     "data": {
      "text/plain": [
       "(23708, 3)"
      ]
     },
     "execution_count": 7,
     "metadata": {},
     "output_type": "execute_result"
    }
   ],
   "source": [
    "df.shape"
   ]
  },
  {
   "cell_type": "code",
   "execution_count": 8,
   "id": "7a9738fa",
   "metadata": {},
   "outputs": [
    {
     "data": {
      "text/html": [
       "<div>\n",
       "<style scoped>\n",
       "    .dataframe tbody tr th:only-of-type {\n",
       "        vertical-align: middle;\n",
       "    }\n",
       "\n",
       "    .dataframe tbody tr th {\n",
       "        vertical-align: top;\n",
       "    }\n",
       "\n",
       "    .dataframe thead th {\n",
       "        text-align: right;\n",
       "    }\n",
       "</style>\n",
       "<table border=\"1\" class=\"dataframe\">\n",
       "  <thead>\n",
       "    <tr style=\"text-align: right;\">\n",
       "      <th></th>\n",
       "      <th>age</th>\n",
       "      <th>gender</th>\n",
       "      <th>img</th>\n",
       "    </tr>\n",
       "  </thead>\n",
       "  <tbody>\n",
       "    <tr>\n",
       "      <th>0</th>\n",
       "      <td>100</td>\n",
       "      <td>0</td>\n",
       "      <td>100_0_0_20170112213500903.jpg.chip.jpg</td>\n",
       "    </tr>\n",
       "    <tr>\n",
       "      <th>1</th>\n",
       "      <td>100</td>\n",
       "      <td>0</td>\n",
       "      <td>100_0_0_20170112215240346.jpg.chip.jpg</td>\n",
       "    </tr>\n",
       "    <tr>\n",
       "      <th>2</th>\n",
       "      <td>100</td>\n",
       "      <td>1</td>\n",
       "      <td>100_1_0_20170110183726390.jpg.chip.jpg</td>\n",
       "    </tr>\n",
       "    <tr>\n",
       "      <th>3</th>\n",
       "      <td>100</td>\n",
       "      <td>1</td>\n",
       "      <td>100_1_0_20170112213001988.jpg.chip.jpg</td>\n",
       "    </tr>\n",
       "    <tr>\n",
       "      <th>4</th>\n",
       "      <td>100</td>\n",
       "      <td>1</td>\n",
       "      <td>100_1_0_20170112213303693.jpg.chip.jpg</td>\n",
       "    </tr>\n",
       "  </tbody>\n",
       "</table>\n",
       "</div>"
      ],
      "text/plain": [
       "   age  gender                                     img\n",
       "0  100       0  100_0_0_20170112213500903.jpg.chip.jpg\n",
       "1  100       0  100_0_0_20170112215240346.jpg.chip.jpg\n",
       "2  100       1  100_1_0_20170110183726390.jpg.chip.jpg\n",
       "3  100       1  100_1_0_20170112213001988.jpg.chip.jpg\n",
       "4  100       1  100_1_0_20170112213303693.jpg.chip.jpg"
      ]
     },
     "execution_count": 8,
     "metadata": {},
     "output_type": "execute_result"
    }
   ],
   "source": [
    "df.head()"
   ]
  },
  {
   "cell_type": "code",
   "execution_count": 9,
   "id": "05549aa2",
   "metadata": {},
   "outputs": [],
   "source": [
    "train_df = df.sample(frac=1, random_state=0).iloc[:20000]\n",
    "test_df = df.sample(frac=1, random_state=0).iloc[20000:]"
   ]
  },
  {
   "cell_type": "code",
   "execution_count": 10,
   "id": "dd036980",
   "metadata": {},
   "outputs": [
    {
     "data": {
      "text/plain": [
       "(20000, 3)"
      ]
     },
     "execution_count": 10,
     "metadata": {},
     "output_type": "execute_result"
    }
   ],
   "source": [
    "train_df.shape"
   ]
  },
  {
   "cell_type": "code",
   "execution_count": 11,
   "id": "1ba64ed2",
   "metadata": {},
   "outputs": [
    {
     "data": {
      "text/plain": [
       "(3708, 3)"
      ]
     },
     "execution_count": 11,
     "metadata": {},
     "output_type": "execute_result"
    }
   ],
   "source": [
    "test_df.shape"
   ]
  },
  {
   "cell_type": "code",
   "execution_count": 12,
   "id": "ba10baeb",
   "metadata": {},
   "outputs": [],
   "source": [
    "train_datagen = ImageDataGenerator(rescale=1./255,\n",
    "                                   rotation_range=30,\n",
    "                                   width_shift_range=0.2,\n",
    "                                   height_shift_range=0.2,\n",
    "                                   shear_range=0.2,\n",
    "                                   zoom_range=0.2,\n",
    "                                   horizontal_flip=True)\n",
    "\n",
    "test_datagen = ImageDataGenerator(rescale=1./255)"
   ]
  },
  {
   "cell_type": "code",
   "execution_count": 20,
   "id": "80e69090",
   "metadata": {},
   "outputs": [
    {
     "name": "stdout",
     "output_type": "stream",
     "text": [
      "Found 20000 validated image filenames.\n",
      "Found 3708 validated image filenames.\n"
     ]
    }
   ],
   "source": [
    "# 1. Define your batch size (default is 32)\n",
    "batch_size = 32 \n",
    "\n",
    "# 2. Re-create your generators, adding the batch_size explicitly\n",
    "train_generator = train_datagen.flow_from_dataframe(train_df,\n",
    "                                                    directory=folder_path,\n",
    "                                                    x_col='img',\n",
    "                                                    y_col=['age','gender'],\n",
    "                                                    target_size=(200,200),\n",
    "                                                    class_mode='multi_output',\n",
    "                                                    batch_size=batch_size) # <-- Add this\n",
    "\n",
    "test_generator = test_datagen.flow_from_dataframe(test_df,\n",
    "                                                  directory=folder_path,\n",
    "                                                  x_col='img',\n",
    "                                                  y_col=['age','gender'],\n",
    "                                                  target_size=(200,200),\n",
    "                                                  class_mode='multi_output',\n",
    "                                                  batch_size=batch_size) # <-- Add this\n"
   ]
  },
  {
   "cell_type": "code",
   "execution_count": 14,
   "id": "70afb96f",
   "metadata": {},
   "outputs": [],
   "source": [
    "from keras.applications.resnet50 import ResNet50\n",
    "from keras.layers import *\n",
    "from keras.models import Model"
   ]
  },
  {
   "cell_type": "code",
   "execution_count": 15,
   "id": "cdbf1364",
   "metadata": {},
   "outputs": [],
   "source": [
    "resnet = ResNet50(include_top=False, input_shape=(200,200,3))"
   ]
  },
  {
   "cell_type": "code",
   "execution_count": 16,
   "id": "a3a9f12d",
   "metadata": {},
   "outputs": [],
   "source": [
    "resnet = ResNet50(include_top=False, input_shape=(200,200,3))\n",
    "\n",
    "resnet.trainable=False\n",
    "\n",
    "output = resnet.layers[-1].output\n",
    "\n",
    "flatten = Flatten()(output)\n",
    "\n",
    "dense1 = Dense(512, activation='relu')(flatten)\n",
    "dense2 = Dense(512,activation='relu')(flatten)\n",
    "\n",
    "dense3 = Dense(512,activation='relu')(dense1)\n",
    "dense4 = Dense(512,activation='relu')(dense2)\n",
    "\n",
    "output1 = Dense(1,activation='linear',name='age')(dense3)\n",
    "output2 = Dense(1,activation='sigmoid',name='gender')(dense4)"
   ]
  },
  {
   "cell_type": "code",
   "execution_count": 17,
   "id": "a0c7cf95",
   "metadata": {},
   "outputs": [],
   "source": [
    "model = Model(inputs=resnet.input,outputs=[output1,output2])"
   ]
  },
  {
   "cell_type": "code",
   "execution_count": 18,
   "id": "a823005a",
   "metadata": {},
   "outputs": [],
   "source": [
    "model.compile(optimizer='adam', loss={'age': 'mae', 'gender': 'binary_crossentropy'}, metrics={'age': 'mae', 'gender': 'accuracy'},loss_weights={'age':1,'gender':99})"
   ]
  },
  {
   "cell_type": "code",
   "execution_count": 22,
   "id": "73bdd6fb",
   "metadata": {},
   "outputs": [
    {
     "name": "stdout",
     "output_type": "stream",
     "text": [
      "\u001b[1m625/625\u001b[0m \u001b[32m━━━━━━━━━━━━━━━━━━━━\u001b[0m\u001b[37m\u001b[0m \u001b[1m735s\u001b[0m 1s/step - age_loss: 15.1649 - age_mae: 15.1649 - gender_accuracy: 0.5153 - gender_loss: 0.7228 - loss: 86.7188 - val_age_loss: 15.2431 - val_age_mae: 15.2431 - val_gender_accuracy: 0.5163 - val_gender_loss: 0.6930 - val_loss: 83.8524\n"
     ]
    }
   ],
   "source": [
    "# 3. Calculate the steps per epoch\n",
    "steps_per_epoch = len(train_df) // batch_size\n",
    "validation_steps = len(test_df) // batch_size\n",
    "\n",
    "\n",
    "# 4. Create the wrapper function to convert list -> tuple\n",
    "def tuple_wrapper(generator):\n",
    "    while True:\n",
    "        x, y = next(generator)\n",
    "        yield x, tuple(y) # <-- This is the fix\n",
    "\n",
    "# 5. Wrap your generators\n",
    "train_gen_wrapped = tuple_wrapper(train_generator)\n",
    "test_gen_wrapped = tuple_wrapper(test_generator)\n",
    "\n",
    "# 6. Fit the model using the wrapped generators and steps\n",
    "history = model.fit(\n",
    "    train_gen_wrapped,\n",
    "    epochs=1,\n",
    "    validation_data=test_gen_wrapped,\n",
    "    steps_per_epoch=steps_per_epoch,       # <-- Required\n",
    "    validation_steps=validation_steps      # <-- Required\n",
    ")"
   ]
  },
  {
   "cell_type": "code",
   "execution_count": 1,
   "id": "30c70a76",
   "metadata": {},
   "outputs": [],
   "source": [
    "# Running for More Epochs will Increase the Accuracy"
   ]
  }
 ],
 "metadata": {
  "kernelspec": {
   "display_name": "Python 3",
   "language": "python",
   "name": "python3"
  },
  "language_info": {
   "codemirror_mode": {
    "name": "ipython",
    "version": 3
   },
   "file_extension": ".py",
   "mimetype": "text/x-python",
   "name": "python",
   "nbconvert_exporter": "python",
   "pygments_lexer": "ipython3",
   "version": "3.12.7"
  }
 },
 "nbformat": 4,
 "nbformat_minor": 5
}
