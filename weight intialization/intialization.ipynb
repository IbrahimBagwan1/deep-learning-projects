{
 "cells": [
  {
   "cell_type": "code",
   "execution_count": 1,
   "id": "cd280315",
   "metadata": {},
   "outputs": [],
   "source": [
    "import pandas as pd\n",
    "import numpy as np\n",
    "from sklearn.model_selection import train_test_split\n",
    "from sklearn.preprocessing import StandardScaler, OneHotEncoder\n",
    "from sklearn.compose import ColumnTransformer\n",
    "import tensorflow as tf\n",
    "from tensorflow.keras.models import Sequential\n",
    "from tensorflow.keras.layers import Dense\n"
   ]
  },
  {
   "cell_type": "code",
   "execution_count": 2,
   "id": "ef4db0e9",
   "metadata": {},
   "outputs": [],
   "source": [
    "\n",
    "# --- 1. CONFIGURATION ---\n",
    "FILE_PATH = 'classification.csv'\n",
    "\n",
    "# Define all column headers in the correct order\n",
    "COLUMN_HEADERS = [\n",
    "    'person_id', 'age', 'sex', 'region', 'urban_rural', 'income', 'education',\n",
    "    'marital_status', 'employment_status', 'household_size', 'dependents', 'bmi',\n",
    "    'smoker', 'alcohol_freq', 'visits_last_year', 'hospitalizations_last_3yrs',\n",
    "    'days_hospitalized_last_3yrs', 'medication_count', 'systolic_bp',\n",
    "    'diastolic_bp', 'ldl', 'hba1c', 'plan_type', 'network_tier', 'deductible',\n",
    "    'copay', 'policy_term_years', 'policy_changes_last_2yrs', 'provider_quality',\n",
    "    'risk_score', 'annual_medical_cost', 'annual_premium', 'monthly_premium',\n",
    "    'claims_count', 'avg_claim_amount', 'total_claims_paid', 'chronic_count',\n",
    "    'hypertension', 'diabetes', 'asthma', 'copd', 'cardiovascular_disease',\n",
    "    'cancer_history', 'kidney_disease', 'liver_disease', 'arthritis',\n",
    "    'mental_health', 'proc_imaging_count', 'proc_surgery_count',\n",
    "    'proc_physio_count', 'proc_consult_count', 'proc_lab_count',\n",
    "    'is_high_risk', 'had_major_procedure'\n",
    "]\n"
   ]
  },
  {
   "cell_type": "code",
   "execution_count": 3,
   "id": "c84ce481",
   "metadata": {},
   "outputs": [
    {
     "name": "stdout",
     "output_type": "stream",
     "text": [
      "Successfully loaded data from 'classification.csv'. Shape: (100000, 54)\n"
     ]
    }
   ],
   "source": [
    "\n",
    "# --- 2. DATA LOADING ---\n",
    "try:\n",
    "    # Use header=0 to correctly read the first row as column names\n",
    "    df = pd.read_csv(FILE_PATH, header=0)\n",
    "    print(f\"Successfully loaded data from '{FILE_PATH}'. Shape: {df.shape}\")\n",
    "except FileNotFoundError:\n",
    "    print(f\"--- ERROR ---\")\n",
    "    print(f\"File not found at: '{FILE_PATH}'\")\n",
    "    print(f\"Please make sure the file is in the same directory or update the path.\")\n",
    "    raise\n",
    "except Exception as e:\n",
    "    print(f\"An error occurred loading the file: {e}\")\n",
    "    raise\n",
    "\n"
   ]
  },
  {
   "cell_type": "code",
   "execution_count": 4,
   "id": "e8860f1a",
   "metadata": {},
   "outputs": [
    {
     "name": "stdout",
     "output_type": "stream",
     "text": [
      "Completed ordinal mapping.\n",
      "Defined feature groups for preprocessing.\n"
     ]
    }
   ],
   "source": [
    "# --- 3. MANUAL ORDINAL MAPPING ---\n",
    "education_map = {\n",
    "    'No HS': 0, 'Below High School': 0, 'HS': 1, 'High School': 1,\n",
    "    'Some College': 2, \"Bachelor's\": 3, \"Master's\": 4, 'Doctorate': 5\n",
    "}\n",
    "df['education'] = df['education'].apply(lambda x: education_map.get(x, 0))\n",
    "\n",
    "network_tier_map = {'Bronze': 0, 'Silver': 1, 'Gold': 2, 'Platinum': 3}\n",
    "df['network_tier'] = df['network_tier'].apply(lambda x: network_tier_map.get(x, 0))\n",
    "print(\"Completed ordinal mapping.\")\n",
    "\n",
    "# --- 4. DEFINE FEATURE GROUPS ---\n",
    "TARGET_COLUMN = 'is_high_risk'\n",
    "DROP_COLUMNS = ['person_id', 'had_major_procedure']\n",
    "\n",
    "ONE_HOT_COLS = [\n",
    "    'sex', 'region', 'urban_rural', 'marital_status', 'employment_status',\n",
    "    'smoker', 'alcohol_freq', 'plan_type'\n",
    "]\n",
    "BINARY_COLS = [\n",
    "    'hypertension', 'diabetes', 'asthma', 'copd', 'cardiovascular_disease',\n",
    "    'cancer_history', 'kidney_disease', 'liver_disease', 'arthritis',\n",
    "    'mental_health'\n",
    "]\n",
    "all_feature_cols = [\n",
    "    col for col in COLUMN_HEADERS if col not in [TARGET_COLUMN] + DROP_COLUMNS\n",
    "]\n",
    "NUMERIC_COLS = [\n",
    "    col for col in all_feature_cols if col not in ONE_HOT_COLS + BINARY_COLS\n",
    "]\n",
    "\n",
    "# Filter lists to only include columns that actually exist in the dataframe\n",
    "NUMERIC_COLS = [col for col in NUMERIC_COLS if col in df.columns]\n",
    "ONE_HOT_COLS = [col for col in ONE_HOT_COLS if col in df.columns]\n",
    "BINARY_COLS = [col for col in BINARY_COLS if col in df.columns]\n",
    "print(\"Defined feature groups for preprocessing.\")\n",
    "\n"
   ]
  },
  {
   "cell_type": "code",
   "execution_count": 5,
   "id": "75f15309",
   "metadata": {},
   "outputs": [
    {
     "name": "stdout",
     "output_type": "stream",
     "text": [
      "Split data into Train ((80000, 51)) and Test ((20000, 51)) sets.\n"
     ]
    }
   ],
   "source": [
    "# --- 5. CREATE X AND y, THEN SPLIT DATA ---\n",
    "X = df.drop(columns=[TARGET_COLUMN] + DROP_COLUMNS)\n",
    "y = df[TARGET_COLUMN]\n",
    "\n",
    "# Ensure the target variable 'y' is a consistent numeric type (int)\n",
    "y = y.astype(int)\n",
    "\n",
    "# Split into training and testing sets\n",
    "X_train, X_test, y_train, y_test = train_test_split(\n",
    "    X, y, test_size=0.2, random_state=42, stratify=y\n",
    ")\n",
    "print(f\"Split data into Train ({X_train.shape}) and Test ({X_test.shape}) sets.\")\n",
    "\n"
   ]
  },
  {
   "cell_type": "code",
   "execution_count": 6,
   "id": "cef97f60",
   "metadata": {},
   "outputs": [],
   "source": [
    "# --- 6. CREATE PREPROCESSING PIPELINE ---\n",
    "numeric_transformer = StandardScaler()\n",
    "one_hot_transformer = OneHotEncoder(handle_unknown='ignore', sparse_output=False)\n",
    "\n",
    "preprocessor = ColumnTransformer(\n",
    "    transformers=[\n",
    "        ('num', numeric_transformer, NUMERIC_COLS),\n",
    "        ('ohe', one_hot_transformer, ONE_HOT_COLS),\n",
    "        ('bin', 'passthrough', BINARY_COLS)\n",
    "    ],\n",
    "    remainder='passthrough'\n",
    ")\n",
    "\n"
   ]
  },
  {
   "cell_type": "code",
   "execution_count": 7,
   "id": "229f2c75",
   "metadata": {},
   "outputs": [
    {
     "name": "stdout",
     "output_type": "stream",
     "text": [
      "Fitting preprocessor and transforming X_train...\n",
      "Transforming X_test...\n",
      "Preprocessing complete. Input dimension for ANN is: 73\n",
      "------------------------------\n",
      "Building ANN model...\n",
      "Model built successfully.\n"
     ]
    },
    {
     "name": "stderr",
     "output_type": "stream",
     "text": [
      "c:\\Users\\irbag\\AppData\\Local\\Programs\\Python\\Python312\\Lib\\site-packages\\keras\\src\\layers\\core\\dense.py:93: UserWarning: Do not pass an `input_shape`/`input_dim` argument to a layer. When using Sequential models, prefer using an `Input(shape)` object as the first layer in the model instead.\n",
      "  super().__init__(activity_regularizer=activity_regularizer, **kwargs)\n"
     ]
    }
   ],
   "source": [
    "# --- 7. APPLY PREPROCESSING ---\n",
    "print(\"Fitting preprocessor and transforming X_train...\")\n",
    "X_train_processed = preprocessor.fit_transform(X_train)\n",
    "\n",
    "print(\"Transforming X_test...\")\n",
    "X_test_processed = preprocessor.transform(X_test)\n",
    "\n",
    "# Get the final number of features AFTER one-hot encoding\n",
    "INPUT_DIM = X_train_processed.shape[1]\n",
    "print(f\"Preprocessing complete. Input dimension for ANN is: {INPUT_DIM}\")\n",
    "print(\"-\" * 30)\n",
    "\n",
    "# --- 8. DEFINE ANN MODEL ---\n",
    "print(\"Building ANN model...\")\n",
    "model = Sequential()\n",
    "model.add(Dense(10, activation=\"tanh\", input_dim=INPUT_DIM))\n",
    "model.add(Dense(10, activation=\"tanh\"))\n",
    "model.add(Dense(10, activation=\"tanh\"))\n",
    "model.add(Dense(10, activation=\"tanh\"))\n",
    "model.add(Dense(1, activation=\"sigmoid\"))\n",
    "print(\"Model built successfully.\")\n",
    "\n"
   ]
  },
  {
   "cell_type": "code",
   "execution_count": null,
   "id": "d29ebe1e",
   "metadata": {},
   "outputs": [
    {
     "name": "stdout",
     "output_type": "stream",
     "text": [
      "Manually setting model weights using Xavier Initialization...\n",
      "Manual weights set.\n",
      "------------------------------\n"
     ]
    }
   ],
   "source": [
    "# --- 9. MANUAL XAVIER WEIGHT INITIALIZATION ---\n",
    "print(\"Manually setting model weights using Xavier Initialization...\")\n",
    "\n",
    "# Get the initial shapes of weights and biases\n",
    "initial_weights = model.get_weights().copy()\n",
    "\n",
    "# Layer 0 (Input -> Hidden 1)\n",
    "fan_in = INPUT_DIM\n",
    "initial_weights[0] = np.random.randn(fan_in, 10) * np.sqrt(1 / fan_in)\n",
    "initial_weights[1] = np.zeros(initial_weights[1].shape) # Bias\n",
    "\n",
    "# Layer 1 (Hidden 1 -> Hidden 2)\n",
    "fan_in = 10\n",
    "initial_weights[2] = np.random.randn(fan_in, 10) * np.sqrt(1 / fan_in)\n",
    "initial_weights[3] = np.zeros(initial_weights[3].shape) # Bias\n",
    "\n",
    "# Layer 2 (Hidden 2 -> Hidden 3)\n",
    "fan_in = 10\n",
    "initial_weights[4] = np.random.randn(fan_in, 10) * np.sqrt(1 / fan_in)\n",
    "initial_weights[5] = np.zeros(initial_weights[5].shape) # Bias\n",
    "\n",
    "# Layer 3 (Hidden 3 -> Hidden 4)\n",
    "fan_in = 10\n",
    "initial_weights[6] = np.random.randn(fan_in, 10) * np.sqrt(1 / fan_in)\n",
    "initial_weights[7] = np.zeros(initial_weights[7].shape) # Bias\n",
    "\n",
    "# Layer 4 (Hidden 4 -> Output)\n",
    "fan_in = 10\n",
    "initial_weights[8] = np.random.randn(fan_in, 1) * np.sqrt(1 / fan_in)\n",
    "initial_weights[9] = np.zeros(initial_weights[9].shape) # Bias\n",
    "\n",
    "# Set the new weights to the model\n",
    "model.set_weights(initial_weights)\n",
    "print(\"Manual weights set.\")\n",
    "print(\"-\" * 30)\n",
    "\n"
   ]
  },
  {
   "cell_type": "code",
   "execution_count": 10,
   "id": "dd4944ce",
   "metadata": {},
   "outputs": [
    {
     "name": "stdout",
     "output_type": "stream",
     "text": [
      "Compiling model...\n"
     ]
    },
    {
     "data": {
      "text/html": [
       "<pre style=\"white-space:pre;overflow-x:auto;line-height:normal;font-family:Menlo,'DejaVu Sans Mono',consolas,'Courier New',monospace\"><span style=\"font-weight: bold\">Model: \"sequential\"</span>\n",
       "</pre>\n"
      ],
      "text/plain": [
       "\u001b[1mModel: \"sequential\"\u001b[0m\n"
      ]
     },
     "metadata": {},
     "output_type": "display_data"
    },
    {
     "data": {
      "text/html": [
       "<pre style=\"white-space:pre;overflow-x:auto;line-height:normal;font-family:Menlo,'DejaVu Sans Mono',consolas,'Courier New',monospace\">┏━━━━━━━━━━━━━━━━━━━━━━━━━━━━━━━━━┳━━━━━━━━━━━━━━━━━━━━━━━━┳━━━━━━━━━━━━━━━┓\n",
       "┃<span style=\"font-weight: bold\"> Layer (type)                    </span>┃<span style=\"font-weight: bold\"> Output Shape           </span>┃<span style=\"font-weight: bold\">       Param # </span>┃\n",
       "┡━━━━━━━━━━━━━━━━━━━━━━━━━━━━━━━━━╇━━━━━━━━━━━━━━━━━━━━━━━━╇━━━━━━━━━━━━━━━┩\n",
       "│ dense (<span style=\"color: #0087ff; text-decoration-color: #0087ff\">Dense</span>)                   │ (<span style=\"color: #00d7ff; text-decoration-color: #00d7ff\">None</span>, <span style=\"color: #00af00; text-decoration-color: #00af00\">10</span>)             │           <span style=\"color: #00af00; text-decoration-color: #00af00\">740</span> │\n",
       "├─────────────────────────────────┼────────────────────────┼───────────────┤\n",
       "│ dense_1 (<span style=\"color: #0087ff; text-decoration-color: #0087ff\">Dense</span>)                 │ (<span style=\"color: #00d7ff; text-decoration-color: #00d7ff\">None</span>, <span style=\"color: #00af00; text-decoration-color: #00af00\">10</span>)             │           <span style=\"color: #00af00; text-decoration-color: #00af00\">110</span> │\n",
       "├─────────────────────────────────┼────────────────────────┼───────────────┤\n",
       "│ dense_2 (<span style=\"color: #0087ff; text-decoration-color: #0087ff\">Dense</span>)                 │ (<span style=\"color: #00d7ff; text-decoration-color: #00d7ff\">None</span>, <span style=\"color: #00af00; text-decoration-color: #00af00\">10</span>)             │           <span style=\"color: #00af00; text-decoration-color: #00af00\">110</span> │\n",
       "├─────────────────────────────────┼────────────────────────┼───────────────┤\n",
       "│ dense_3 (<span style=\"color: #0087ff; text-decoration-color: #0087ff\">Dense</span>)                 │ (<span style=\"color: #00d7ff; text-decoration-color: #00d7ff\">None</span>, <span style=\"color: #00af00; text-decoration-color: #00af00\">10</span>)             │           <span style=\"color: #00af00; text-decoration-color: #00af00\">110</span> │\n",
       "├─────────────────────────────────┼────────────────────────┼───────────────┤\n",
       "│ dense_4 (<span style=\"color: #0087ff; text-decoration-color: #0087ff\">Dense</span>)                 │ (<span style=\"color: #00d7ff; text-decoration-color: #00d7ff\">None</span>, <span style=\"color: #00af00; text-decoration-color: #00af00\">1</span>)              │            <span style=\"color: #00af00; text-decoration-color: #00af00\">11</span> │\n",
       "└─────────────────────────────────┴────────────────────────┴───────────────┘\n",
       "</pre>\n"
      ],
      "text/plain": [
       "┏━━━━━━━━━━━━━━━━━━━━━━━━━━━━━━━━━┳━━━━━━━━━━━━━━━━━━━━━━━━┳━━━━━━━━━━━━━━━┓\n",
       "┃\u001b[1m \u001b[0m\u001b[1mLayer (type)                   \u001b[0m\u001b[1m \u001b[0m┃\u001b[1m \u001b[0m\u001b[1mOutput Shape          \u001b[0m\u001b[1m \u001b[0m┃\u001b[1m \u001b[0m\u001b[1m      Param #\u001b[0m\u001b[1m \u001b[0m┃\n",
       "┡━━━━━━━━━━━━━━━━━━━━━━━━━━━━━━━━━╇━━━━━━━━━━━━━━━━━━━━━━━━╇━━━━━━━━━━━━━━━┩\n",
       "│ dense (\u001b[38;5;33mDense\u001b[0m)                   │ (\u001b[38;5;45mNone\u001b[0m, \u001b[38;5;34m10\u001b[0m)             │           \u001b[38;5;34m740\u001b[0m │\n",
       "├─────────────────────────────────┼────────────────────────┼───────────────┤\n",
       "│ dense_1 (\u001b[38;5;33mDense\u001b[0m)                 │ (\u001b[38;5;45mNone\u001b[0m, \u001b[38;5;34m10\u001b[0m)             │           \u001b[38;5;34m110\u001b[0m │\n",
       "├─────────────────────────────────┼────────────────────────┼───────────────┤\n",
       "│ dense_2 (\u001b[38;5;33mDense\u001b[0m)                 │ (\u001b[38;5;45mNone\u001b[0m, \u001b[38;5;34m10\u001b[0m)             │           \u001b[38;5;34m110\u001b[0m │\n",
       "├─────────────────────────────────┼────────────────────────┼───────────────┤\n",
       "│ dense_3 (\u001b[38;5;33mDense\u001b[0m)                 │ (\u001b[38;5;45mNone\u001b[0m, \u001b[38;5;34m10\u001b[0m)             │           \u001b[38;5;34m110\u001b[0m │\n",
       "├─────────────────────────────────┼────────────────────────┼───────────────┤\n",
       "│ dense_4 (\u001b[38;5;33mDense\u001b[0m)                 │ (\u001b[38;5;45mNone\u001b[0m, \u001b[38;5;34m1\u001b[0m)              │            \u001b[38;5;34m11\u001b[0m │\n",
       "└─────────────────────────────────┴────────────────────────┴───────────────┘\n"
      ]
     },
     "metadata": {},
     "output_type": "display_data"
    },
    {
     "data": {
      "text/html": [
       "<pre style=\"white-space:pre;overflow-x:auto;line-height:normal;font-family:Menlo,'DejaVu Sans Mono',consolas,'Courier New',monospace\"><span style=\"font-weight: bold\"> Total params: </span><span style=\"color: #00af00; text-decoration-color: #00af00\">1,081</span> (4.22 KB)\n",
       "</pre>\n"
      ],
      "text/plain": [
       "\u001b[1m Total params: \u001b[0m\u001b[38;5;34m1,081\u001b[0m (4.22 KB)\n"
      ]
     },
     "metadata": {},
     "output_type": "display_data"
    },
    {
     "data": {
      "text/html": [
       "<pre style=\"white-space:pre;overflow-x:auto;line-height:normal;font-family:Menlo,'DejaVu Sans Mono',consolas,'Courier New',monospace\"><span style=\"font-weight: bold\"> Trainable params: </span><span style=\"color: #00af00; text-decoration-color: #00af00\">1,081</span> (4.22 KB)\n",
       "</pre>\n"
      ],
      "text/plain": [
       "\u001b[1m Trainable params: \u001b[0m\u001b[38;5;34m1,081\u001b[0m (4.22 KB)\n"
      ]
     },
     "metadata": {},
     "output_type": "display_data"
    },
    {
     "data": {
      "text/html": [
       "<pre style=\"white-space:pre;overflow-x:auto;line-height:normal;font-family:Menlo,'DejaVu Sans Mono',consolas,'Courier New',monospace\"><span style=\"font-weight: bold\"> Non-trainable params: </span><span style=\"color: #00af00; text-decoration-color: #00af00\">0</span> (0.00 B)\n",
       "</pre>\n"
      ],
      "text/plain": [
       "\u001b[1m Non-trainable params: \u001b[0m\u001b[38;5;34m0\u001b[0m (0.00 B)\n"
      ]
     },
     "metadata": {},
     "output_type": "display_data"
    },
    {
     "name": "stdout",
     "output_type": "stream",
     "text": [
      "\n",
      "--- Starting Model Training ---\n",
      "Epoch 1/10\n",
      "2500/2500 - 4s - 2ms/step - accuracy: 0.9984 - loss: 0.0040 - val_accuracy: 0.9987 - val_loss: 0.0037\n",
      "Epoch 2/10\n",
      "2500/2500 - 2s - 992us/step - accuracy: 0.9990 - loss: 0.0027 - val_accuracy: 0.9998 - val_loss: 5.2490e-04\n",
      "Epoch 3/10\n",
      "2500/2500 - 2s - 992us/step - accuracy: 0.9988 - loss: 0.0037 - val_accuracy: 0.9991 - val_loss: 0.0025\n",
      "Epoch 4/10\n",
      "2500/2500 - 3s - 1ms/step - accuracy: 0.9982 - loss: 0.0046 - val_accuracy: 0.9995 - val_loss: 0.0018\n",
      "Epoch 5/10\n",
      "2500/2500 - 2s - 974us/step - accuracy: 0.9987 - loss: 0.0041 - val_accuracy: 0.9973 - val_loss: 0.0069\n",
      "Epoch 6/10\n",
      "2500/2500 - 3s - 1ms/step - accuracy: 0.9986 - loss: 0.0041 - val_accuracy: 0.9991 - val_loss: 0.0023\n",
      "Epoch 7/10\n",
      "2500/2500 - 2s - 977us/step - accuracy: 0.9987 - loss: 0.0034 - val_accuracy: 0.9990 - val_loss: 0.0030\n",
      "Epoch 8/10\n",
      "2500/2500 - 2s - 959us/step - accuracy: 0.9987 - loss: 0.0036 - val_accuracy: 0.9992 - val_loss: 0.0030\n",
      "Epoch 9/10\n",
      "2500/2500 - 2s - 938us/step - accuracy: 0.9990 - loss: 0.0032 - val_accuracy: 0.9998 - val_loss: 8.7438e-04\n",
      "Epoch 10/10\n",
      "2500/2500 - 3s - 1ms/step - accuracy: 0.9987 - loss: 0.0036 - val_accuracy: 0.9992 - val_loss: 0.0026\n",
      "\n",
      "--- Model Training Complete ---\n",
      "------------------------------\n",
      "Final Test Accuracy: 99.92%\n",
      "Final Test Loss: 0.0026\n",
      "------------------------------\n"
     ]
    }
   ],
   "source": [
    "# --- 10. COMPILE AND TRAIN MODEL ---\n",
    "print(\"Compiling model...\")\n",
    "model.compile(\n",
    "    optimizer='adam',\n",
    "    loss='binary_crossentropy',\n",
    "    metrics=['accuracy']\n",
    ")\n",
    "\n",
    "# Print a summary of the model\n",
    "model.summary()\n",
    "print(\"\\n--- Starting Model Training ---\")\n",
    "\n",
    "history = model.fit(\n",
    "    X_train_processed, \n",
    "    y_train,\n",
    "    epochs=10,\n",
    "    batch_size=32,\n",
    "    validation_data=(X_test_processed, y_test),\n",
    "    verbose=2  # Shows one line per epoch\n",
    ")\n",
    "\n",
    "print(\"\\n--- Model Training Complete ---\")\n",
    "\n",
    "# --- 11. EVALUATE MODEL ---\n",
    "loss, accuracy = model.evaluate(X_test_processed, y_test, verbose=0)\n",
    "print(\"-\" * 30)\n",
    "print(f\"Final Test Accuracy: {accuracy*100:.2f}%\")\n",
    "print(f\"Final Test Loss: {loss:.4f}\")\n",
    "print(\"-\" * 30)\n"
   ]
  },
  {
   "cell_type": "code",
   "execution_count": null,
   "id": "cbc5717e",
   "metadata": {},
   "outputs": [],
   "source": []
  }
 ],
 "metadata": {
  "kernelspec": {
   "display_name": "Python 3",
   "language": "python",
   "name": "python3"
  },
  "language_info": {
   "codemirror_mode": {
    "name": "ipython",
    "version": 3
   },
   "file_extension": ".py",
   "mimetype": "text/x-python",
   "name": "python",
   "nbconvert_exporter": "python",
   "pygments_lexer": "ipython3",
   "version": "3.12.7"
  }
 },
 "nbformat": 4,
 "nbformat_minor": 5
}
