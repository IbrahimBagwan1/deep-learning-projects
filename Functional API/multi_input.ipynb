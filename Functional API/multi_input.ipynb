{
 "cells": [
  {
   "cell_type": "code",
   "execution_count": 1,
   "id": "a309faa3",
   "metadata": {},
   "outputs": [],
   "source": [
    "from keras.layers import *\n",
    "from keras.models import Model"
   ]
  },
  {
   "cell_type": "code",
   "execution_count": 2,
   "id": "978d65db",
   "metadata": {},
   "outputs": [],
   "source": [
    "inputA = Input(shape=(32,))\n",
    "inputB = Input(shape=(128,))"
   ]
  },
  {
   "cell_type": "code",
   "execution_count": 3,
   "id": "099d3539",
   "metadata": {},
   "outputs": [],
   "source": [
    "x = Dense(8, activation='relu')(inputA)\n",
    "x1 = Dense(4, activation='relu')(x)"
   ]
  },
  {
   "cell_type": "code",
   "execution_count": 4,
   "id": "009792d0",
   "metadata": {},
   "outputs": [],
   "source": [
    "y = Dense(64, activation='relu')(inputB)\n",
    "\n",
    "y1 = Dense(32, activation='relu')(y)\n",
    "y2 = Dense(4, activation='relu')(y1)"
   ]
  },
  {
   "cell_type": "code",
   "execution_count": 5,
   "id": "139f47c3",
   "metadata": {},
   "outputs": [],
   "source": [
    "combined = concatenate([x1, y2])"
   ]
  },
  {
   "cell_type": "code",
   "execution_count": 6,
   "id": "f271f6e8",
   "metadata": {},
   "outputs": [],
   "source": [
    "z = Dense(2, activation='relu')(combined)\n",
    "z1 = Dense(1, activation='linear')(z)"
   ]
  },
  {
   "cell_type": "code",
   "execution_count": 7,
   "id": "97cf1d42",
   "metadata": {},
   "outputs": [],
   "source": [
    "model = Model(inputs=[inputA, inputB], outputs=z1)"
   ]
  },
  {
   "cell_type": "code",
   "execution_count": 8,
   "id": "6b406c5b",
   "metadata": {},
   "outputs": [
    {
     "name": "stdout",
     "output_type": "stream",
     "text": [
      "You must install graphviz (see instructions at https://graphviz.gitlab.io/download/) for `plot_model` to work.\n"
     ]
    }
   ],
   "source": [
    "from keras.utils import plot_model\n",
    "plot_model(model)"
   ]
  },
  {
   "cell_type": "code",
   "execution_count": null,
   "id": "9c2f98eb",
   "metadata": {},
   "outputs": [],
   "source": []
  }
 ],
 "metadata": {
  "kernelspec": {
   "display_name": "Python 3",
   "language": "python",
   "name": "python3"
  },
  "language_info": {
   "codemirror_mode": {
    "name": "ipython",
    "version": 3
   },
   "file_extension": ".py",
   "mimetype": "text/x-python",
   "name": "python",
   "nbconvert_exporter": "python",
   "pygments_lexer": "ipython3",
   "version": "3.12.7"
  }
 },
 "nbformat": 4,
 "nbformat_minor": 5
}
